{
  "nbformat": 4,
  "nbformat_minor": 0,
  "metadata": {
    "colab": {
      "provenance": [],
      "authorship_tag": "ABX9TyMM28iK76UVg6z1Ih//BZ2R",
      "include_colab_link": true
    },
    "kernelspec": {
      "name": "python3",
      "display_name": "Python 3"
    },
    "language_info": {
      "name": "python"
    }
  },
  "cells": [
    {
      "cell_type": "markdown",
      "metadata": {
        "id": "view-in-github",
        "colab_type": "text"
      },
      "source": [
        "<a href=\"https://colab.research.google.com/github/Drynya7/logit_model/blob/main/logit_model.ipynb\" target=\"_parent\"><img src=\"https://colab.research.google.com/assets/colab-badge.svg\" alt=\"Open In Colab\"/></a>"
      ]
    },
    {
      "cell_type": "code",
      "execution_count": null,
      "metadata": {
        "id": "Y9nvZ7P2r0jd"
      },
      "outputs": [],
      "source": [
        "import numpy as np\n",
        "import matplotlib.pyplot as plt \n",
        "from sklearn import linear_model \n",
        "from scipy.special import expit # функция для сигмоиды"
      ]
    },
    {
      "cell_type": "code",
      "source": [
        "n_samples = 100 # число примеров\n",
        "np.random.seed(0) # инициализация генератора случайных чисел\n",
        "X = 1*np.random.normal(size=n_samples) # случаные числа по х, с нормальным законом распределения\n",
        "y = (X > 0).astype(np.float) # класс 1 если больше нуля, 0 иначе, преобразуем в тип float\n",
        "X[X > 0] *= 4 # умножим примеры входов из класса 1 на 4\n",
        "X += .3 * np.random.normal(size=n_samples) # добавим ко всем примерам входа шум - случаные числа не очень большого разброса\n",
        "X = X[:, np.newaxis] # сделаем столбец, добавив новое измерение к массиву, был одномерный станет двумерный. Можно было бы использовать reshape как раньше\n"
      ],
      "metadata": {
        "colab": {
          "base_uri": "https://localhost:8080/"
        },
        "id": "VMXy24bVK-zY",
        "outputId": "1678283d-5b86-40a6-8081-0b6ae4118871"
      },
      "execution_count": null,
      "outputs": [
        {
          "output_type": "stream",
          "name": "stderr",
          "text": [
            "<ipython-input-6-2a8c7ffb2cb3>:4: DeprecationWarning: `np.float` is a deprecated alias for the builtin `float`. To silence this warning, use `float` by itself. Doing this will not modify any behavior and is safe. If you specifically wanted the numpy scalar type, use `np.float64` here.\n",
            "Deprecated in NumPy 1.20; for more details and guidance: https://numpy.org/devdocs/release/1.20.0-notes.html#deprecations\n",
            "  y = (X > 0).astype(np.float) # класс 1 если больше нуля, 0 иначе, преобразуем в тип float\n"
          ]
        }
      ]
    },
    {
      "cell_type": "code",
      "source": [
        "log_reg = linear_model.LogisticRegression(C=1e5, max_iter=200) # создаем логистическую регрессию, C ставим побольше, это значит регуляризация будет влиять мало на результат\n",
        "log_reg.fit(X, y) # обучаем модель, мы не стали разделять на обучающие и тестовые данные сейчас."
      ],
      "metadata": {
        "colab": {
          "base_uri": "https://localhost:8080/"
        },
        "id": "rB4yoxCGLhUP",
        "outputId": "4c63137d-527d-4a48-c735-23d1ab6d80e7"
      },
      "execution_count": null,
      "outputs": [
        {
          "output_type": "execute_result",
          "data": {
            "text/plain": [
              "LogisticRegression(C=100000.0, max_iter=200)"
            ]
          },
          "metadata": {},
          "execution_count": 7
        }
      ]
    },
    {
      "cell_type": "code",
      "source": [
        "plt.figure(1, figsize=(4, 3))  \n",
        "plt.clf() \n",
        "plt.scatter(X.ravel(), y, color='black', zorder=20) # ravel() вытягивает массив, превращая его в одномерный\n",
        "X_test = np.linspace(-5, 10, 300) # теперь создадим тестовые примеры входов\n",
        "loss = expit(X_test * log_reg.coef_ + log_reg.intercept_).ravel() # вручную\n",
        "loss1 = log_reg.predict_proba(X_test[:, np.newaxis])[:,1].ravel() # через predict_proba, берем второй столбец (индекс 1) , чтобы сам выход вернуть\n",
        "plt.plot(X_test, loss1, color='red', linewidth=3) #"
      ],
      "metadata": {
        "colab": {
          "base_uri": "https://localhost:8080/",
          "height": 228
        },
        "id": "tVYKsEtwLonI",
        "outputId": "f09b457f-f926-4d02-ae95-99a5d0f8944e"
      },
      "execution_count": null,
      "outputs": [
        {
          "output_type": "execute_result",
          "data": {
            "text/plain": [
              "[<matplotlib.lines.Line2D at 0x7f3c91c93250>]"
            ]
          },
          "metadata": {},
          "execution_count": 10
        },
        {
          "output_type": "display_data",
          "data": {
            "text/plain": [
              "<Figure size 288x216 with 1 Axes>"
            ],
            "image/png": "[encoded data removed]"
          },
          "metadata": {
            "needs_background": "light"
          }
        }
      ]
    }
  ]
}